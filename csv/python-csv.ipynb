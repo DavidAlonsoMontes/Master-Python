{
 "cells": [
  {
   "cell_type": "code",
   "execution_count": null,
   "metadata": {},
   "outputs": [],
   "source": []
  },
  {
   "cell_type": "markdown",
   "metadata": {},
   "source": [
    "Las siguientes lineas de código son ejemplos del uso de archivos csv.\n",
    "Python dispone de una libreria para el tratamiento de estos archivos. La libreria csv dispone de objetos y metodos para leer, escribir y procesar datos en archivos .csv"
   ]
  },
  {
   "cell_type": "markdown",
   "metadata": {},
   "source": [
    "Disponemos de un archivo employee_birthday.csv cuyo contenido es el siguiente:\n",
    "\n",
    "name,department,birthday month\n",
    "John Smith,Accounting,November\n",
    "Erica Meyers,IT,March\n",
    "\n",
    "A continuación vamos a crear un codigo para leerlo:"
   ]
  },
  {
   "cell_type": "code",
   "execution_count": 1,
   "metadata": {},
   "outputs": [
    {
     "name": "stdout",
     "output_type": "stream",
     "text": [
      "El nombre de las columnas es: name          , department  , birthday month\n",
      "John Smith    trabaja en Accounting  y nació en November\n",
      "Erica Meyers  trabaja en IT          y nació en March\n"
     ]
    }
   ],
   "source": [
    "import csv\n",
    "\n",
    "with open(\"employee_birthday.csv\") as csv_file:\n",
    "    csv_reader = csv.reader(csv_file)\n",
    "    cnt=0\n",
    "    for row in csv_reader:\n",
    "        if cnt==0:\n",
    "            column_names = \" , \".join(\"{}\".format(column) for column in row)\n",
    "            print('El nombre de las columnas es: {}'.format(column_names))\n",
    "            cnt +=1\n",
    "        else:\n",
    "            print(\"{} trabaja en {} y nació en {}\".format(row[0], row[1], row[2]))\n"
   ]
  },
  {
   "cell_type": "markdown",
   "metadata": {},
   "source": [
    "Observar el uso de join para concatenar elementos de un objeto iterable en una sola cadena"
   ]
  },
  {
   "cell_type": "markdown",
   "metadata": {},
   "source": [
    "Esto de manejar las columnas con sus indices es poco eficiente y representativo para un numero elevado de nombres de columnas"
   ]
  },
  {
   "cell_type": "code",
   "execution_count": 10,
   "metadata": {},
   "outputs": [
    {
     "name": "stdout",
     "output_type": "stream",
     "text": [
      "El nombre de las columnas es: name , department , birthday month\n",
      "\tname          works in the department  department, and was born in birthday month.\n",
      "\tJohn Smith    works in the Accounting  department, and was born in November.\n",
      "\tErica Meyers  works in the IT          department, and was born in March.\n",
      "\tnombre works in the None department, and was born in None.\n",
      "Processed 5 lines.\n"
     ]
    }
   ],
   "source": [
    "with open('employee_birthday.csv', mode='r') as csv_file:\n",
    "    \n",
    "    keys =[\"name\", \"department\", \"birthday month\"]\n",
    "    csv_reader = csv.DictReader(csv_file,fieldnames=keys)\n",
    "    line_count = 0\n",
    "    for row in csv_reader:\n",
    "        #print(row)\n",
    "        #Aqui capturamos la primera fila, que sería el nombre de las columnas\n",
    "        if line_count == 0:\n",
    "            column_names = \" , \".join(\"{}\".format(column) for column in row)\n",
    "            print('El nombre de las columnas es: {}'.format(column_names))\n",
    "            line_count += 1\n",
    "            \n",
    "        print('\\t{} works in the {} department, and was born in {}.'.format(row[\"name\"], row[\"department\"],row[\"birthday month\"]))\n",
    "        line_count += 1\n",
    "    print('Processed {} lines.'.format(line_count))"
   ]
  }
 ],
 "metadata": {
  "kernelspec": {
   "display_name": "Python 3",
   "language": "python",
   "name": "python3"
  },
  "language_info": {
   "codemirror_mode": {
    "name": "ipython",
    "version": 3
   },
   "file_extension": ".py",
   "mimetype": "text/x-python",
   "name": "python",
   "nbconvert_exporter": "python",
   "pygments_lexer": "ipython3",
   "version": "3.11.4"
  }
 },
 "nbformat": 4,
 "nbformat_minor": 2
}
